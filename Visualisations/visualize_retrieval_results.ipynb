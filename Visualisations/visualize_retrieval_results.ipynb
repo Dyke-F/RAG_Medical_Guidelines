{
 "cells": [
  {
   "cell_type": "code",
   "execution_count": 17,
   "metadata": {},
   "outputs": [],
   "source": [
    "import pandas as pd\n",
    "\n",
    "rag_path = \"/Users/dykeferber/Desktop/Guideline_LLM_Paper/Vector_LLM_for_Medical_QA-main/RetrievalEvaluations/faithfulness_relevancy_RAG.csv\"\n",
    "no_rag_path = \"/Users/dykeferber/Desktop/Guideline_LLM_Paper/Vector_LLM_for_Medical_QA-main/RetrievalEvaluations/faithfulness_relevancy_noRAG.csv\"\n",
    "\n",
    "\n",
    "rag_retrieval = pd.read_csv(rag_path, index_col=0)\n",
    "rag_retrieval[\"faithfulness\"].sum(), rag_retrieval[\"relevancy\"].sum()\n",
    "\n",
    "no_rag_retrieval = pd.read_csv(no_rag_path, index_col=0)\n",
    "no_rag_retrieval[\"faithfulness\"].sum(), no_rag_retrieval[\"relevancy\"].sum()"
   ]
  },
  {
   "cell_type": "code",
   "execution_count": 18,
   "metadata": {},
   "outputs": [
    {
     "data": {
      "text/plain": [
       "(30, 30)"
      ]
     },
     "execution_count": 18,
     "metadata": {},
     "output_type": "execute_result"
    }
   ],
   "source": [
    "rag_retrieval = pd.read_csv(rag_path, index_col=0)\n",
    "rag_retrieval[\"faithfulness\"].sum(), rag_retrieval[\"relevancy\"].sum()\n",
    "\n",
    "no_rag_retrieval = pd.read_csv(no_rag_path, index_col=0)\n",
    "no_rag_retrieval[\"faithfulness\"].sum(), no_rag_retrieval[\"relevancy\"].sum()"
   ]
  },
  {
   "cell_type": "code",
   "execution_count": 19,
   "metadata": {},
   "outputs": [
    {
     "data": {
      "text/plain": [
       "(30, 29)"
      ]
     },
     "execution_count": 19,
     "metadata": {},
     "output_type": "execute_result"
    }
   ],
   "source": [
    "no_rag_retrieval = pd.read_csv(no_rag_path, index_col=0)\n",
    "no_rag_retrieval[\"faithfulness\"].sum(), no_rag_retrieval[\"relevancy\"].sum()"
   ]
  }
 ],
 "metadata": {
  "kernelspec": {
   "display_name": "venv",
   "language": "python",
   "name": "python3"
  },
  "language_info": {
   "codemirror_mode": {
    "name": "ipython",
    "version": 3
   },
   "file_extension": ".py",
   "mimetype": "text/x-python",
   "name": "python",
   "nbconvert_exporter": "python",
   "pygments_lexer": "ipython3",
   "version": "3.11.6"
  }
 },
 "nbformat": 4,
 "nbformat_minor": 2
}
